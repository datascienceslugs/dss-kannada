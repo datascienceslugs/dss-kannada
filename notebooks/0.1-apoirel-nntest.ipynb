{
 "cells": [
  {
   "cell_type": "markdown",
   "metadata": {},
   "source": [
    "# MNIST Baseline neural network\n",
    "*Anders Poirel 02-10-2019*\n",
    "\n",
    "\n",
    "Data from the [Kannada Mnist](https://www.kaggle.com/c/Kannada-MNIST) competition on Kaggle. Here, similar the original MNIST, the goal is to correctly classify handwritten digits in the Kannada script."
   ]
  },
  {
   "cell_type": "markdown",
   "metadata": {},
   "source": [
    "## Training the model"
   ]
  },
  {
   "cell_type": "code",
   "execution_count": 60,
   "metadata": {},
   "outputs": [],
   "source": [
    "import pandas as pd\n",
    "import numpy as np\n",
    "from tensorflow import keras\n",
    "from tensorflow.keras.layers import Dense\n",
    "from tensorflow.keras.layers import Dropout\n",
    "from tensorflow.keras.utils import to_categorical\n",
    "import matplotlib.pyplot as plt \n",
    "import seaborn as sns"
   ]
  },
  {
   "cell_type": "code",
   "execution_count": 62,
   "metadata": {},
   "outputs": [],
   "source": [
    "train = pd.read_csv('../data/raw/train.csv')\n",
    "y_train = train['label']\n",
    "X_train = train.drop('label', axis = 1)"
   ]
  },
  {
   "cell_type": "markdown",
   "metadata": {},
   "source": [
    "This is the final architecture that was decided - two hidden layers is perhaps a bit overkill given how we achieve comparable test accuracy scores (0.05% less) using a NN with a single hidden layer. "
   ]
  },
  {
   "cell_type": "code",
   "execution_count": 63,
   "metadata": {},
   "outputs": [],
   "source": [
    "model = keras.Sequential()\n",
    "model.add(Dense(784, input_dim = 784, activation = 'relu'))\n",
    "model.add(Dropout(0.2))\n",
    "model.add(Dense(100, activation = 'relu'))\n",
    "model.add(Dropout(0.2))\n",
    "model.add(Dense(50, activation = 'relu'))\n",
    "model.add(Dropout(0.2))\n",
    "model.add(Dense(10, activation = 'softmax'))\n",
    "model.compile(loss = 'categorical_crossentropy', optimizer = 'adam', metrics = ['accuracy'])"
   ]
  },
  {
   "cell_type": "code",
   "execution_count": 64,
   "metadata": {},
   "outputs": [
    {
     "name": "stdout",
     "output_type": "stream",
     "text": [
      "Train on 48000 samples, validate on 12000 samples\n",
      "Epoch 1/15\n",
      "48000/48000 [==============================] - 11s 230us/sample - loss: 1.4495 - acc: 0.7937 - val_loss: 0.1720 - val_acc: 0.9471\n",
      "Epoch 2/15\n",
      "48000/48000 [==============================] - 9s 182us/sample - loss: 0.3070 - acc: 0.9210 - val_loss: 0.0990 - val_acc: 0.9688\n",
      "Epoch 3/15\n",
      "48000/48000 [==============================] - 9s 188us/sample - loss: 0.2326 - acc: 0.9432 - val_loss: 0.0829 - val_acc: 0.9756\n",
      "Epoch 4/15\n",
      "48000/48000 [==============================] - 9s 187us/sample - loss: 0.1775 - acc: 0.9550 - val_loss: 0.0790 - val_acc: 0.9821\n",
      "Epoch 5/15\n",
      "48000/48000 [==============================] - 9s 188us/sample - loss: 0.1477 - acc: 0.9622 - val_loss: 0.0899 - val_acc: 0.9806\n",
      "Epoch 6/15\n",
      "48000/48000 [==============================] - 10s 213us/sample - loss: 0.1431 - acc: 0.9661 - val_loss: 0.0728 - val_acc: 0.9843\n",
      "Epoch 7/15\n",
      "48000/48000 [==============================] - 11s 222us/sample - loss: 0.1232 - acc: 0.9704 - val_loss: 0.0942 - val_acc: 0.9808\n",
      "Epoch 8/15\n",
      "48000/48000 [==============================] - 11s 226us/sample - loss: 0.1129 - acc: 0.9744 - val_loss: 0.0655 - val_acc: 0.9870\n",
      "Epoch 9/15\n",
      "48000/48000 [==============================] - 11s 219us/sample - loss: 0.0967 - acc: 0.9776 - val_loss: 0.0914 - val_acc: 0.9827\n",
      "Epoch 10/15\n",
      "48000/48000 [==============================] - 11s 222us/sample - loss: 0.1055 - acc: 0.9760 - val_loss: 0.0758 - val_acc: 0.9869\n",
      "Epoch 11/15\n",
      "48000/48000 [==============================] - 11s 220us/sample - loss: 0.0931 - acc: 0.9790 - val_loss: 0.0819 - val_acc: 0.9843\n",
      "Epoch 12/15\n",
      "48000/48000 [==============================] - 11s 224us/sample - loss: 0.0940 - acc: 0.9803 - val_loss: 0.1057 - val_acc: 0.9848\n",
      "Epoch 13/15\n",
      "48000/48000 [==============================] - 11s 220us/sample - loss: 0.0993 - acc: 0.9793 - val_loss: 0.1602 - val_acc: 0.9845\n",
      "Epoch 14/15\n",
      "48000/48000 [==============================] - 11s 227us/sample - loss: 0.0846 - acc: 0.9815 - val_loss: 0.0888 - val_acc: 0.9793\n",
      "Epoch 15/15\n",
      "48000/48000 [==============================] - 10s 208us/sample - loss: 0.0817 - acc: 0.9832 - val_loss: 0.1004 - val_acc: 0.9858\n"
     ]
    }
   ],
   "source": [
    "history = model.fit(X_train, to_categorical(y_train),\n",
    "                    validation_split = 0.2, epochs = 15)"
   ]
  },
  {
   "cell_type": "markdown",
   "metadata": {},
   "source": [
    "### Evaluating model performance"
   ]
  },
  {
   "cell_type": "markdown",
   "metadata": {},
   "source": [
    "We examine how training and validation set loss and accuracy evolve over time. \n",
    "Note: for this to display, add `validation_split = 0.2` as a parameter to `model.fit` above. \n",
    "Otherwise, we will want to remove the parameter to train the final model on the entire dataset."
   ]
  },
  {
   "cell_type": "code",
   "execution_count": 65,
   "metadata": {},
   "outputs": [],
   "source": [
    "sns.set()"
   ]
  },
  {
   "cell_type": "code",
   "execution_count": 66,
   "metadata": {},
   "outputs": [],
   "source": [
    "# history is expected to be a keras History object\n",
    "def plot_loss(history):\n",
    "    plt.plot(history.history['loss'])\n",
    "    plt.plot(history.history['val_loss'])\n",
    "    plt.title('Model loss')\n",
    "    plt.ylabel('Loss')\n",
    "    plt.xlabel('Epoch')\n",
    "    plt.legend(['Train', 'Test'], loc='upper left')\n",
    "    return"
   ]
  },
  {
   "cell_type": "code",
   "execution_count": 67,
   "metadata": {},
   "outputs": [],
   "source": [
    "# history is expected to be a keras History object\n",
    "def plot_acc(history):\n",
    "    plt.plot(history.history['acc'])\n",
    "    plt.plot(history.history['val_acc'])\n",
    "    plt.title('Model accuracy')\n",
    "    plt.ylabel('Accuracy')\n",
    "    plt.xlabel('Epoch')\n",
    "    plt.legend(['Train', 'Test'], loc='upper left')\n",
    "    return "
   ]
  },
  {
   "cell_type": "code",
   "execution_count": 68,
   "metadata": {},
   "outputs": [
    {
     "data": {
      "image/png": "[encoded data removed]",
      "text/plain": [
       "<Figure size 432x288 with 1 Axes>"
      ]
     },
     "metadata": {},
     "output_type": "display_data"
    }
   ],
   "source": [
    "plot_loss(history)"
   ]
  },
  {
   "cell_type": "code",
   "execution_count": 69,
   "metadata": {},
   "outputs": [
    {
     "data": {
      "image/png": "[encoded data removed]",
      "text/plain": [
       "<Figure size 432x288 with 1 Axes>"
      ]
     },
     "metadata": {},
     "output_type": "display_data"
    }
   ],
   "source": [
    "plot_acc(history)"
   ]
  },
  {
   "cell_type": "markdown",
   "metadata": {},
   "source": [
    "## Making predictions for Kaggle"
   ]
  },
  {
   "cell_type": "code",
   "execution_count": 71,
   "metadata": {},
   "outputs": [],
   "source": [
    "submission = pd.read_csv('../data/raw/sample_submission.csv')\n",
    "X_test = pd.read_csv('../data/raw/test.csv')\n",
    "X_test.drop('id', axis = 1, inplace = True)"
   ]
  },
  {
   "cell_type": "code",
   "execution_count": 72,
   "metadata": {},
   "outputs": [],
   "source": [
    "preds = model.predict(X_test)"
   ]
  },
  {
   "cell_type": "code",
   "execution_count": 73,
   "metadata": {},
   "outputs": [],
   "source": [
    "submission['label'] = pd.DataFrame(preds, columns = ['0', '1', '2', '3', '4', '5', '6', '7', '8', '9']).idxmax(axis = 1)"
   ]
  },
  {
   "cell_type": "code",
   "execution_count": 18,
   "metadata": {},
   "outputs": [],
   "source": [
    "submission.to_csv('../output/base_submission.csv')"
   ]
  },
  {
   "cell_type": "markdown",
   "metadata": {},
   "source": [
    "### Predictions on alternate validation set"
   ]
  },
  {
   "cell_type": "markdown",
   "metadata": {},
   "source": [
    "After retraining the above neural netwok on the entire dataset (after tuning verifying that the architecture works using the)"
   ]
  },
  {
   "cell_type": "code",
   "execution_count": 75,
   "metadata": {},
   "outputs": [],
   "source": [
    "val = pd.read_csv('../data/raw/Dig-MNIST.csv')"
   ]
  },
  {
   "cell_type": "code",
   "execution_count": 76,
   "metadata": {},
   "outputs": [],
   "source": [
    "X_val = val.drop('label', axis = 1)\n",
    "y_val = val['label']"
   ]
  },
  {
   "cell_type": "code",
   "execution_count": 77,
   "metadata": {},
   "outputs": [],
   "source": [
    "from sklearn.metrics import accuracy_score"
   ]
  },
  {
   "cell_type": "code",
   "execution_count": 78,
   "metadata": {},
   "outputs": [],
   "source": [
    "y_pred = model.predict(X_val)"
   ]
  },
  {
   "cell_type": "code",
   "execution_count": 79,
   "metadata": {},
   "outputs": [],
   "source": [
    "y_pred = pd.DataFrame(y_pred, columns = ['0', '1', '2', '3', '4', '5', '6', '7', '8', '9'])"
   ]
  },
  {
   "cell_type": "code",
   "execution_count": 80,
   "metadata": {},
   "outputs": [],
   "source": [
    "y_pred = y_pred.idxmax(axis = 1).values.astype(np.int)"
   ]
  },
  {
   "cell_type": "code",
   "execution_count": 81,
   "metadata": {},
   "outputs": [],
   "source": [
    "y_val = y_val.values"
   ]
  },
  {
   "cell_type": "code",
   "execution_count": 82,
   "metadata": {},
   "outputs": [
    {
     "data": {
      "text/plain": [
       "0.6232421875"
      ]
     },
     "execution_count": 82,
     "metadata": {},
     "output_type": "execute_result"
    }
   ],
   "source": [
    "accuracy_score(y_val, y_pred)"
   ]
  },
  {
   "cell_type": "markdown",
   "metadata": {},
   "source": [
    "This score on the supplementary validation dataset is much lower than on test sets sampled from the original training set, hinting that performance of a conventional deep neural network does not generalize well to slightly different data. \n",
    "\n",
    "We might achieve better results on this supplementary validation set by using a CNN architecture."
   ]
  }
 ],
 "metadata": {
  "kernelspec": {
   "display_name": "Python 3",
   "language": "python",
   "name": "python3"
  },
  "language_info": {
   "codemirror_mode": {
    "name": "ipython",
    "version": 3
   },
   "file_extension": ".py",
   "mimetype": "text/x-python",
   "name": "python",
   "nbconvert_exporter": "python",
   "pygments_lexer": "ipython3",
   "version": "3.7.3"
  }
 },
 "nbformat": 4,
 "nbformat_minor": 2
}
